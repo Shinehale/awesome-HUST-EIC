{
 "cells": [
  {
   "cell_type": "code",
   "execution_count": 1,
   "metadata": {},
   "outputs": [],
   "source": [
    "import numpy as np\n",
    "from scipy.special import comb\n",
    "import math"
   ]
  },
  {
   "attachments": {},
   "cell_type": "markdown",
   "metadata": {},
   "source": [
    "# $Markov\\,Chains$\n",
    "\n",
    "By **ShineHale**(yunsong Yang) U202115980\n",
    "\n",
    "This is the second experiment for the random process, and it is about the markov chains, which is one of the most important models in the process of exploring the bound of the world.\n",
    "\n",
    "## $Task \\, 1$\n",
    "\n",
    "Consider a markov chain with the following transition probability matrix\n",
    "\n",
    "![](./img/mc0.png)\n",
    "\n",
    "- (a) Decompose the state space into equivalance classes.\n",
    "- (b) Identify the close equivalence clases and find their respective periods.\n",
    "- (c) State the transition probability matrix in a canonical form.\n",
    "\n",
    "### $Quesiton \\,1$\n",
    "we can easily plot the state transmition figure like the follow:\n",
    "\n",
    "![](./img/mc1.jpg)\n",
    "\n",
    "\n",
    "then from the plot, we can have the conclusion that, there are $4$ equivalance classes. \n",
    "- $\\{9\\}$ \n",
    "- $\\{4\\}$\n",
    "- $\\{1, 7, 10\\}$\n",
    "- $\\{2, 3, 5, 8\\}$ \n",
    "\n",
    "\n",
    "### $Question\\, 2$\n",
    "For each the closed equivalance classes, the period of them each one is:\n",
    "\n",
    "-  $pid(\\{9\\}) = 1$\n",
    "-  $pid(\\{4\\}) = 1$\n",
    "-  $pid(\\{1, 7, 10\\}) = 3$\n",
    "-  $pid(\\{2, 3, 5, 8\\}) = 1$\n",
    "\n",
    "### $Question\\, 3$\n",
    "we can state the transition probability matrix in a canonical form as follow:\n",
    "\n",
    "$$\n",
    "P = \\left[\n",
    "        \\begin{matrix}\n",
    "            0 & 0 & 0 & 0 & 0 & 0 & 1.0 & 0 & 0 & 0 \\\\\n",
    "            0 & 0.3 & 0.3 & 0.1 & 0.3 & 0 & 0 & 0 & 0 & 0 \\\\\n",
    "            0 & 0 & 0.6 & 0 & 0& 0 & 0 & 0.4 & 0 & 0 \\\\\n",
    "            0 & 0 & 0 & 1 & 0 & 0 & 0 & 0 & 0 & 0 \\\\\n",
    "            0 & 0.4 & 0 & 0 & 0 & 0.3 & 0 & 0.3 & 0 & 0 \\\\ \n",
    "            0 & 0 & 0 & 0.9 & 0 & 0 & 0.1 & 0 & 0 & 0 \\\\ \n",
    "            0 & 0 & 0 & 0 & 0 & 0 & 0 & 0 & 0 & 1.0 \\\\\n",
    "            0 & 0.8 & 0 & 0 & 0 & 0 & 0 & 0 & 0.2 & 0 \\\\\n",
    "            0 & 0 & 0 & 0 & 0 & 0 & 0 & 0 & 1.0 & 0 \\\\\n",
    "            1.0 & 0 & 0 & 0 & 0 & 0 & 0 & 0 & 0 & 0 \n",
    "        \\end{matrix}\n",
    "    \\right]\n",
    "$$"
   ]
  },
  {
   "attachments": {},
   "cell_type": "markdown",
   "metadata": {},
   "source": [
    "## $Task \\, 2$\n",
    "\n",
    "A fugitive moves about three cities, Houston, Galveston, ana Sugarianu, to escape a bounty hunter. Initially, the fugitive is in Houston and the bounty hunter is in Galveston. The fugitive and bounty hunter move independently of each other and each follows the respective transition probability matrix of a Markov chain:\n",
    "\n",
    "\n",
    "\n",
    "$$\n",
    "P_{fugitive} = \\begin{matrix}\n",
    "        Houston \\\\\n",
    "        Galveston \\\\\n",
    "        Sugarland  \\\\\n",
    "    \\end{matrix}\n",
    "    \\left[\\begin{matrix}\n",
    "        0 & 0.4 & 0.6 \\\\\n",
    "        0.7 & 0 & 0.3 \\\\\n",
    "        0.1 & 0.9 & 0 \\\\\n",
    "    \\end{matrix}\\right] \\,\n",
    "P_{bounty \\, hunter} = \\begin{matrix}\n",
    "        Houston \\\\\n",
    "        Galveston \\\\\n",
    "        Sugarland  \\\\\n",
    "    \\end{matrix}\n",
    "    \\left[\\begin{matrix}\n",
    "        0.3 & 0.2 & 0.5 \\\\\n",
    "        0.8 & 0.1 & 0.1 \\\\\n",
    "        0.5 & 0.2 & 0.3 \\\\\n",
    "    \\end{matrix}\\right]\n",
    "$$\n",
    "\n",
    "We assume that each party makes the move (transition) at the end of each day. When the two are in the same city on a given day there is a 50 percent chance the fugitive will be captured. What is the expected time for the bounty hunter to catch the fugitive?\n"
   ]
  },
  {
   "cell_type": "code",
   "execution_count": 2,
   "metadata": {},
   "outputs": [],
   "source": [
    "p_fu = np.array([[0, 0.4, 0.6],\n",
    "                 [0.7, 0, 0.3],\n",
    "                 [0.1, 0.9, 0]])\n",
    "p_bh = np.array([[0.3, 0.2, 0.5],\n",
    "                 [0.8, 0.1, 0.1],\n",
    "                 [0.5, 0.2, 0.3]])\n",
    "p_init_fu = np.array([1, 0, 0])\n",
    "p_init_bh = np.array([0, 0, 1])"
   ]
  },
  {
   "cell_type": "code",
   "execution_count": 3,
   "metadata": {},
   "outputs": [],
   "source": [
    "def generate_outcome():\n",
    "    days = 0\n",
    "    pos_fu, pos_bh = 0, 2\n",
    "    while True:\n",
    "        dir_fu = np.random.rand()\n",
    "        for k in range(3):\n",
    "            if p_fu[pos_fu][k] > dir_fu:\n",
    "                pos_fu = k\n",
    "                break\n",
    "            else:\n",
    "                dir_fu -= p_fu[pos_fu][k]\n",
    "        dir_bh = np.random.rand()\n",
    "        for k in range(3):\n",
    "            if p_bh[pos_bh][k] > dir_bh:\n",
    "                pos_bh = k\n",
    "                break\n",
    "            else:\n",
    "                dir_bh -= p_bh[pos_bh][k]\n",
    "        if pos_bh == pos_fu:\n",
    "            case = np.random.rand()\n",
    "            if (case < 0.5):\n",
    "                break\n",
    "        days += 1\n",
    "    return days"
   ]
  },
  {
   "cell_type": "code",
   "execution_count": 4,
   "metadata": {},
   "outputs": [
    {
     "name": "stdout",
     "output_type": "stream",
     "text": [
      "the expected time for the bounty hunter to catch the fuguitive is 5.6762 days\n"
     ]
    }
   ],
   "source": [
    "times = 100000\n",
    "total_days = 0\n",
    "for _ in range(times):\n",
    "    total_days += generate_outcome()\n",
    "print(\"the expected time for the bounty hunter to catch the fuguitive is %.4f days\" %(total_days / times))"
   ]
  },
  {
   "attachments": {},
   "cell_type": "markdown",
   "metadata": {},
   "source": [
    "## $Task \\, 3$\n",
    "\n",
    "Consider Problem 5 again. Assume that emergency arrivals follow a Poisson process with a rate of one arrival per day and the number of discharges per day, given that there are $i$ patients at the start of the day, follows a binomial distribution with parameters $(i, p)$, where $p = 0.5$. For the first patient admission policies, find \n",
    "- (a) the one-step transition probability matrices; \n",
    "- (b) the long-run expected occupancies per day; \n",
    "- (c) the long-run expected number of emergency patients who are turned away per day. Under the current assumption of binomial discharges, what type of length-of-stay distributions are we assuming?\n",
    "\n",
    "### $Question \\, 1$\n",
    "we consider the policy of only admitting emergency arrivals to the ward, denote $\\{X_t|t = 0, 1, \\cdots\\}$ as the number of the patients in the ward in the $t$ day, then we will have \n",
    "\n",
    "$$P\\{X_{i + 1} = k| X_i = m\\} = \\sum_{n = 0}^{m} \\binom{m}{n}p^n(1-p)^{(n-m)}  P\\{N(1) = k - m + n\\}$$\n",
    "subsitute the $P\\{N(1) = k - m + n\\}$, we will have\n",
    "$$P\\{X_{i + 1} = k| X_i = m\\} = \\sum_{n = 0}^{m} \\binom{m}{n}p^n(1-p)^{(n-m)}  \\frac{\\lambda^{k - m + n}}{(k - m +n)!}exp(-\\lambda)$$\n",
    "where $k - m + n >= 0, \\lambda = 1, p = 0.5$\n",
    "\n",
    "so we can have the one-step transition matrix as follow.\n",
    "\n",
    "$$\n",
    "$$"
   ]
  },
  {
   "cell_type": "code",
   "execution_count": 5,
   "metadata": {},
   "outputs": [
    {
     "name": "stdout",
     "output_type": "stream",
     "text": [
      "[[0.36787944 0.36787944 0.18393972 0.0803014 ]\n",
      " [0.18393972 0.36787944 0.27590958 0.17227126]\n",
      " [0.09196986 0.27590958 0.32189451 0.31022605]\n",
      " [0.04598493 0.18393972 0.29890205 0.4711733 ]]\n"
     ]
    }
   ],
   "source": [
    "P = np.zeros((4, 4))\n",
    "p = 0.5\n",
    "lambd = 1\n",
    "for m in range(4):\n",
    "    for k in range(3):\n",
    "        val = 0\n",
    "        for n in range(0, m + 1, 1):\n",
    "            if k - m + n < 0:\n",
    "                continue\n",
    "            val += comb(m, n) * p**n * (1-p)**(m - n)  * np.exp(-lambd) * lambd**(k - m + n) / math.factorial(k - m + n)\n",
    "            P[m][k] = val\n",
    "    P[m][3] = 1 - sum(P[m])\n",
    "print(P)"
   ]
  },
  {
   "attachments": {},
   "cell_type": "markdown",
   "metadata": {},
   "source": [
    "### $Question\\, 2$\n",
    "\n",
    "In order to find the long-run expected occupancies per day, we need to find the long-run expected number of the patients of per day in the ward. we can assume it has the limit distribution(that is true), and iterate the matrix over and over again. finally, we will have the limit distribution, then have the expected number of the patients."
   ]
  },
  {
   "cell_type": "code",
   "execution_count": 6,
   "metadata": {},
   "outputs": [
    {
     "name": "stdout",
     "output_type": "stream",
     "text": [
      "[[0.14594531 0.29006995 0.28193685 0.28204794]\n",
      " [0.14594531 0.29006995 0.28193685 0.28204794]\n",
      " [0.14594531 0.29006995 0.28193685 0.28204794]\n",
      " [0.14594531 0.29006995 0.28193685 0.28204794]]\n"
     ]
    }
   ],
   "source": [
    "times = 30\n",
    "P_iter = P\n",
    "for _ in range(times):\n",
    "    P_iter = np.dot(P_iter, P_iter)\n",
    "print(P_iter)"
   ]
  },
  {
   "attachments": {},
   "cell_type": "markdown",
   "metadata": {},
   "source": [
    "after make the operations about 30 times, we can find that the matrix is fixed, what a amazing outcome, it means $P_{limit} = P^{2^{30}}$, and no matter how you times itself, its value is stick!, so we have the limit distribution $[0.1459, 0.2901, 0.2819, 0.2820]$, then we can have the expected number of the patients and the long-run expected occupancies per day. "
   ]
  },
  {
   "cell_type": "code",
   "execution_count": 7,
   "metadata": {},
   "outputs": [
    {
     "name": "stdout",
     "output_type": "stream",
     "text": [
      "the long-run expected occupancies per day is 56.6696%\n"
     ]
    }
   ],
   "source": [
    "Ex_patients = np.sum(P_iter[0] * np.array([0, 1, 2, 3]))\n",
    "Ex_rate = Ex_patients / 3\n",
    "print(\"the long-run expected occupancies per day is %.4f%%\" %(Ex_rate * 100))"
   ]
  },
  {
   "attachments": {},
   "cell_type": "markdown",
   "metadata": {},
   "source": [
    "### $Question \\, 3$\n",
    "\n",
    "Under the assumption of binomial discharges, we are assuming a fixed length-of-stay distribution. This is because the binomial distribution assumes that each patient has a fixed probability of being discharged on any given day, regardless of how long they have been in the hospital. Therefore, the length of stay for each patient is assumed to be independent and identically distributed (iid) with a fixed probability of discharge on each day."
   ]
  },
  {
   "attachments": {},
   "cell_type": "markdown",
   "metadata": {},
   "source": [
    "## $Task \\, 4$\n",
    "\n",
    "An input conveyor panses by :a work station every twelve minutes with an item to be processed by the operator at the work station. The amount of work for each item differs depending on the instructions stated on the tag of each item. There are three types of items: 2/7 of them require six-minutes of work, 4/7 of them require twelve minutes of work, and 1/7 of them require eighteen-minutes of work. The worker at the work station works on one item at a time.The station has a storage space for holding one unprocessed item. If an item is completed in the middle of the twelve-minute interval, it is immediately loaded on an output conveyor and the item at the storage space, if any, is moved to the work station for immedate processing. At the end of a twelve-minute interval, the worker loads the finished item, if any, on the output conveyor and moves the waiting item at the storage space, if any, to the work station for immediate processing. In  addition, the ariving item from the input conveyor is moved to the work station or the storage space. depending on the space available at either place. Assume that loading and unloading times are negligible. When an item passes by the work station and the work station does not have a place to store it, the item leaves the system unprocessed. The figure above depicts the complete system. Define the work load at the work station as the amount of work remaining (in minutes of work yet to be completed) right before the conveyor passes by the work station.\n",
    "\n",
    "- (a) Compute the average amount of work load at the work station. \n",
    "- (b) Compute the fraction of items left in the work station unprocessed.\n",
    "\n",
    "### $Question \\, 1$\n",
    "\n",
    "In case of the calculation of the probabilities, we prefer to simulate the process and using the long-run process for solving the problem.\n"
   ]
  },
  {
   "cell_type": "code",
   "execution_count": 8,
   "metadata": {},
   "outputs": [],
   "source": [
    "def generate_item():\n",
    "    pro = np.random.rand()\n",
    "    costs_time = 0\n",
    "    if pro < 2.0 / 7:\n",
    "        costs_time = 6\n",
    "    elif pro < 6.0 / 7:\n",
    "        costs_time = 12\n",
    "    else:\n",
    "        costs_time = 18\n",
    "    return costs_time"
   ]
  },
  {
   "cell_type": "code",
   "execution_count": 9,
   "metadata": {},
   "outputs": [
    {
     "name": "stdout",
     "output_type": "stream",
     "text": [
      "the average work load of the working staion is 3.37 minutes\n"
     ]
    }
   ],
   "source": [
    "max_times = 5000000\n",
    "empty = 0\n",
    "tot_amount = 0\n",
    "tot_work_load = 0\n",
    "\n",
    "left_time = 0\n",
    "for _ in range(max_times + 1):\n",
    "    cost = generate_item()\n",
    "\n",
    "    count = 0\n",
    "    time = 12\n",
    "    if left_time <= time and left_time > 0:\n",
    "        count += 1\n",
    "        time -= left_time\n",
    "        left_time = empty\n",
    "        empty = 0\n",
    "    else:\n",
    "        if left_time > 0:\n",
    "            left_time -= time\n",
    "        time = 0\n",
    "    if left_time <= time and left_time > 0:\n",
    "        count += 1\n",
    "        time -= left_time\n",
    "        left_time = 0\n",
    "    else:\n",
    "        if left_time > 0:\n",
    "            left_time -= time\n",
    "        time = 0\n",
    "    \n",
    "    tot_work_load += left_time + empty\n",
    "    tot_amount += count\n",
    "    if left_time == 0:\n",
    "        left_time = cost\n",
    "    elif empty == 0:\n",
    "        empty = cost\n",
    "    \n",
    "print(\"the average work load of the working staion is %.2f minutes\" %(tot_work_load / max_times))"
   ]
  },
  {
   "attachments": {},
   "cell_type": "markdown",
   "metadata": {},
   "source": [
    "### $Question \\, 2$\n",
    "\n",
    "In order to compute the fraction of items left in the work station unprocessed,  we only need to compute the number of the processed items completely, and use the formula:\n",
    "\n",
    "$$\n",
    "P = 1 - \\frac{tot_{amount}}{tot_{times}}\n",
    "$$\n"
   ]
  },
  {
   "cell_type": "code",
   "execution_count": 10,
   "metadata": {},
   "outputs": [
    {
     "name": "stdout",
     "output_type": "stream",
     "text": [
      "the fraction of items left in the work station unprocessed is 1.42%\n"
     ]
    }
   ],
   "source": [
    "max_times = 5000000\n",
    "empty = 0\n",
    "tot_amount = 0\n",
    "tot_work_load = 0\n",
    "\n",
    "left_time = 0\n",
    "for _ in range(max_times + 1):\n",
    "    cost = generate_item()\n",
    "\n",
    "    count = 0\n",
    "    time = 12\n",
    "    if left_time <= time and left_time > 0:\n",
    "        count += 1\n",
    "        time -= left_time\n",
    "        left_time = empty\n",
    "        empty = 0\n",
    "    else:\n",
    "        if left_time > 0:\n",
    "            left_time -= time\n",
    "        time = 0\n",
    "    if left_time <= time and left_time > 0:\n",
    "        count += 1\n",
    "        time -= left_time\n",
    "        left_time = 0\n",
    "    else:\n",
    "        if left_time > 0:\n",
    "            left_time -= time\n",
    "        time = 0\n",
    "    \n",
    "    tot_work_load += left_time + empty\n",
    "    tot_amount += count\n",
    "    if left_time == 0:\n",
    "        left_time = cost\n",
    "    elif empty == 0:\n",
    "        empty = cost\n",
    "    \n",
    "print(\"the fraction of items left in the work station unprocessed is %.2f%%\" %((1 - tot_amount / max_times) * 100))"
   ]
  },
  {
   "attachments": {},
   "cell_type": "markdown",
   "metadata": {},
   "source": [
    "## $Summary$\n",
    "\n",
    "From this experiment, I have a better understanding about the markov chain like limit distribution, states classification and apply them into the specific question, for solving the specific problem. What a wonderful journey! "
   ]
  }
 ],
 "metadata": {
  "kernelspec": {
   "display_name": "Python 3",
   "language": "python",
   "name": "python3"
  },
  "language_info": {
   "codemirror_mode": {
    "name": "ipython",
    "version": 3
   },
   "file_extension": ".py",
   "mimetype": "text/x-python",
   "name": "python",
   "nbconvert_exporter": "python",
   "pygments_lexer": "ipython3",
   "version": "3.11.2"
  },
  "orig_nbformat": 4
 },
 "nbformat": 4,
 "nbformat_minor": 2
}
