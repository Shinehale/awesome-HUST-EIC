{
 "cells": [
  {
   "cell_type": "code",
   "execution_count": 3,
   "metadata": {},
   "outputs": [
    {
     "data": {
      "text/plain": [
       "array([1.25, 0.25, 0.25, 0.25, 0.25, 0.25, 0.25, 0.25, 0.25, 0.25, 0.25,\n",
       "       0.25, 0.25, 0.25, 0.25, 0.25, 0.25, 0.25, 0.25, 0.25, 0.25, 0.25,\n",
       "       0.25, 0.25, 0.25, 0.25, 0.25, 0.25, 0.25, 0.25, 0.25, 0.25, 0.25,\n",
       "       0.25, 0.25, 0.25, 0.25, 0.25, 0.25, 0.25, 0.25, 0.25, 0.25, 0.25,\n",
       "       0.25, 0.25, 0.25, 0.25, 0.25, 0.25, 0.25, 0.25, 0.25, 0.25, 0.25,\n",
       "       0.25, 0.25, 0.25, 0.25, 0.25, 0.25, 0.25, 0.25, 0.25, 0.25, 0.25,\n",
       "       0.25, 0.25, 0.25, 0.25, 0.25, 0.25, 0.25, 0.25, 0.25, 0.25, 0.25,\n",
       "       0.25, 0.25, 0.25, 0.25, 0.25, 0.25, 0.25, 0.25, 0.25, 0.25, 0.25,\n",
       "       0.25, 0.25, 0.25, 0.25, 0.25, 0.25, 0.25, 0.25, 0.25, 0.25, 0.25,\n",
       "       0.25])"
      ]
     },
     "execution_count": 3,
     "metadata": {},
     "output_type": "execute_result"
    }
   ],
   "source": [
    "import numpy as np\n",
    "\n",
    "# Define the DFT values based on the interpreted information\n",
    "N = 100  # sequence length\n",
    "X = np.ones(N, dtype=complex)  # create a complex array of ones with N length\n",
    "X[0] = 26  # set the first value to 26\n",
    "\n",
    "# Compute the inverse DFT\n",
    "x = np.fft.ifft(X)\n",
    "\n",
    "# The result should be real due to the nature of the input but we'll take the real part to avoid numerical artifacts\n",
    "x_real = x.real\n",
    "\n",
    "x_real"
   ]
  },
  {
   "cell_type": "code",
   "execution_count": 9,
   "metadata": {},
   "outputs": [
    {
     "name": "stdout",
     "output_type": "stream",
     "text": [
      "[  24.          +0.j         -148.24978336-134.59292911j\n",
      "   -4.          -8.j          140.24978336-142.59292911j\n",
      "    8.          +0.j          140.24978336+142.59292911j\n",
      "   -4.          +8.j         -148.24978336+134.59292911j] [  24.          +0.j         -148.24978336-134.59292911j\n",
      "   -4.          -8.j          140.24978336-142.59292911j\n",
      "    8.          +0.j          140.24978336+142.59292911j\n",
      "   -4.          +8.j         -148.24978336+134.59292911j\n",
      "   24.          +0.j         -148.24978336-134.59292911j\n",
      "   -4.          -8.j          140.24978336-142.59292911j\n",
      "    8.          +0.j          140.24978336+142.59292911j\n",
      "   -4.          +8.j         -148.24978336+134.59292911j]\n"
     ]
    }
   ],
   "source": [
    "x = [1, 2, 3, 100, 5, 6, 7, -100]\n",
    "w = [1, 0, 2, 0, 3, 0, 100, 0, 5, 0, 6, 0, 7, 0, -100, 0]\n",
    "X = np.fft.fft(x)\n",
    "W = np.fft.fft(w)\n",
    "print(X, W)"
   ]
  },
  {
   "cell_type": "code",
   "execution_count": null,
   "metadata": {},
   "outputs": [],
   "source": []
  }
 ],
 "metadata": {
  "kernelspec": {
   "display_name": "Python 3",
   "language": "python",
   "name": "python3"
  },
  "language_info": {
   "codemirror_mode": {
    "name": "ipython",
    "version": 3
   },
   "file_extension": ".py",
   "mimetype": "text/x-python",
   "name": "python",
   "nbconvert_exporter": "python",
   "pygments_lexer": "ipython3",
   "version": "3.12.1"
  }
 },
 "nbformat": 4,
 "nbformat_minor": 2
}
